{
 "cells": [
  {
   "cell_type": "markdown",
   "id": "0d641a7e-eb9d-481b-87a4-ba9fd3c4a622",
   "metadata": {},
   "source": [
    "## Beispiel Implementierung\n",
    "\n",
    "Fuer ein 2-layer Netzwerk zur Klassifizierung der Pinguine.\n",
    "\n",
    "### Setup\n",
    "\n",
    "Wir importieren die ben&ouml;tigten Module und laden die Daten."
   ]
  },
  {
   "cell_type": "code",
   "execution_count": 1,
   "id": "89c63bee",
   "metadata": {},
   "outputs": [],
   "source": [
    "# import the required modules\n",
    "import json\n",
    "import numpy as np\n",
    "import matplotlib.pyplot as plt\n",
    "from scipy.optimize import approx_fprime  # we will use this function to compute gradients\n",
    "\n",
    "# load the data\n",
    "with open('penguin-data.json', 'r') as f:\n",
    "    datadict = json.load(f)\n",
    "# turn it into a numpy array\n",
    "data = np.array(datadict['data'])\n",
    "data = data - data.mean(axis=0)\n",
    "# extract the labels\n",
    "lbls = np.array(datadict['target'])"
   ]
  },
  {
   "cell_type": "markdown",
   "id": "13e00184",
   "metadata": {},
   "source": [
    "In diesem Beispiel unterscheiden wir nur zwei Gruppen. Wir teilen die\n",
    "ersetzen die eigentlichen *labels* `[0, 1, 2]` durch die zwei *lables* `[-1,\n",
    "1]`."
   ]
  },
  {
   "cell_type": "code",
   "execution_count": 17,
   "id": "fb7597a5",
   "metadata": {},
   "outputs": [
    {
     "name": "stdout",
     "output_type": "stream",
     "text": [
      "our two groups: \n",
      " ['Adelie --> 1', 'Gentoo --> 1', 'Chinstrap --> -1']\n"
     ]
    }
   ],
   "source": [
    "# a dictionary that maps the labels(=targets) of the data into labels {1, -1}\n",
    "# that will use for distinction of two groups\n",
    "mplbldict = {0: np.array([1]),\n",
    "             1: np.array([1]),\n",
    "             2: np.array([-1])}\n",
    "print('our two groups: \\n', [f'{datadict[\"target_names\"][lblid]} --> {mplbldict[lblid].item()}' for lblid in [0, 1, 2]])"
   ]
  },
  {
   "cell_type": "markdown",
   "id": "36a9ae3b",
   "metadata": {},
   "source": [
    "Als n&auml;chstes legen wir die Dimensionen der *layers* fest und damit auch die\n",
    "Gr&ouml;&szlig;e der Gewichtsmatrizen. Bei unserem 2-layer Netzwerk, bleibt uns\n",
    "da nur die Gr&ouml;&szlig;e der mittleren Schicht, da die Eingangsdimension\n",
    "durch die Daten und die Ausgangsdimension durch unsere Wahl, wie wir entscheiden\n",
    "wollen, bereits festgelegt ist."
   ]
  },
  {
   "cell_type": "code",
   "execution_count": 3,
   "id": "dc018fd0",
   "metadata": {},
   "outputs": [],
   "source": [
    "# sizes of the layers\n",
    "sxz, sxo, sxt = data.shape[1], 2, mplbldict[0].size\n",
    "# defines also the sizes of the weightmatrices"
   ]
  },
  {
   "cell_type": "markdown",
   "id": "c75d1d1d",
   "metadata": {},
   "source": [
    "Zuletzt noch die Parameter, die das *training* definieren. \n",
    "\n",
    "* `batchsize` -- &uuml;ber wieviele Samples wird der stochastische Gradient\n",
    "  bestimmt\n",
    "* `lr` -- *learning rate* -- die Schrittweite\n",
    "* `epochs` -- wie oft wird &uuml;ber die Daten iteriert\n",
    "\n",
    "und dann wie gross der Anteil und was die Indizes der Trainings--\n",
    "beziehungsweise Testdaten sind"
   ]
  },
  {
   "cell_type": "code",
   "execution_count": 4,
   "id": "3df08f46",
   "metadata": {},
   "outputs": [],
   "source": [
    "# parameters for the training -- these worked fine for me\n",
    "batchsize = 30  # how many samples for the stochastic gradients\n",
    "lr = 0.125  # learning rate\n",
    "epochs = 1000  # how many gradient steps\n",
    "\n",
    "# the data\n",
    "traindataratio = .9     # the ratio of training data vs. test data\n",
    "ndata = data.shape[0]   # number of datapoints                                       \n",
    "trnds = int(ndata*traindataratio)\n",
    "allidx = np.arange(ndata)                                   # indices of all data\n",
    "trnidx = np.random.choice(allidx, trnds, replace=False)     # training ids\n",
    "tstidx = np.setdiff1d(allidx, trnidx)                       # test ids"
   ]
  },
  {
   "cell_type": "markdown",
   "id": "57b03b5b",
   "metadata": {},
   "source": [
    "### Neural Network Evaluation Setup\n",
    "\n",
    "Hier definieren wir das Netzwerk als Funktion der Parameter und die *loss function*, die misst wie gut das Netzwerk die Daten wiedergibt und die Grundlage fuer die Optimierung ist.\n"
   ]
  },
  {
   "cell_type": "code",
   "execution_count": null,
   "id": "79a0fe78-7cb0-4c53-b5a5-7ed6463b96c4",
   "metadata": {},
   "outputs": [],
   "source": [
    "def fwdnn(xzero, Aone=None, bone=None, Atwo=None, btwo=None):\n",
    "    ''' definition/(forward)evaluation of a neural networks of two layers\n",
    "\n",
    "    '''\n",
    "    xone = np.tanh(Aone @ xzero + bone)\n",
    "    xtwo = np.tanh(Atwo @ xone + btwo)\n",
    "    return xtwo"
   ]
  },
  {
   "cell_type": "code",
   "execution_count": null,
   "id": "7ba91f45-3178-4dc8-9391-a782ba95e14d",
   "metadata": {},
   "outputs": [],
   "source": [
    "def sqrdloss(weightsvector, features=None, labels=None):\n",
    "    ''' compute the sqrd `loss`\n",
    "\n",
    "    || NN(x_i) - y_i ||^2\n",
    "\n",
    "    given the vector of weights for a given data point (features)\n",
    "    and the corresponding label\n",
    "    '''\n",
    "\n",
    "    Aone, bone, Atwo, btwo = wvec_to_wmats(weightsvector)\n",
    "    # compute the prediction\n",
    "    nnpred = fwdnn(features, Aone=Aone, bone=bone, Atwo=Atwo, btwo=btwo)\n",
    "    return np.linalg.norm(nnpred - labels)**2"
   ]
  },
  {
   "cell_type": "markdown",
   "id": "7b196e02-b8a3-4992-9995-043745dcde9e",
   "metadata": {},
   "source": [
    "An sich liegen die Parameter als Matrizen vor. Da jedoch die Theorie (und auch die praktische Implementierung) einen Parameter**vektor** voraussetzt, entrollen wir die Matrizen und stecken sie in einen grossen Vektor. Dann muessen wir noch an der richtigen Stelle wieder die Matrizen aus dem Vektor extrahieren; was die folgende Funktion realisiert."
   ]
  },
  {
   "cell_type": "code",
   "execution_count": null,
   "id": "28aabd58-f442-4de8-89e3-d042a129c612",
   "metadata": {},
   "outputs": [],
   "source": [
    "def wvec_to_wmats(wvec):\n",
    "    ''' helper to turn the vector of weights into the system matrices\n",
    "\n",
    "    '''\n",
    "    Aone = wvec[:sxz*sxo].reshape((sxo, sxz))\n",
    "    cidx = sxz*sxo\n",
    "    bone = wvec[cidx:cidx+sxo]\n",
    "    cidx = cidx + sxo\n",
    "    Atwo = wvec[cidx:cidx+sxo*sxt].reshape((sxt, sxo))\n",
    "    cidx = cidx + sxo*sxt\n",
    "    btwo = wvec[cidx:]\n",
    "    if Aone.size + bone.size + Atwo.size + btwo.size == wvec.size:\n",
    "        return Aone, bone, Atwo, btwo\n",
    "    else:\n",
    "        raise UserWarning('mismatch weightsvector/matrices')"
   ]
  },
  {
   "cell_type": "markdown",
   "id": "dcf326ea-e3cb-4cfd-b45e-46662fcfffaf",
   "metadata": {},
   "source": [
    "### Das Training\n",
    "\n",
    "Der Parametervektor (\"die Gewichte\") werden zufaellig initialisiert und dann mit dem stochastischen Gradienten in mehreren Epochen optimiert."
   ]
  },
  {
   "cell_type": "code",
   "execution_count": 11,
   "id": "d0e427b4-a931-440f-9d00-6771b8c89018",
   "metadata": {},
   "outputs": [
    {
     "name": "stdout",
     "output_type": "stream",
     "text": [
      "k=0: norm of gradient: 62.08036334209341\n",
      "k=50: norm of gradient: 4.590950817400852\n",
      "k=100: norm of gradient: 6.7776589732579975\n",
      "k=150: norm of gradient: 3.06227920557032\n",
      "k=200: norm of gradient: 1.5537732318941215\n",
      "k=250: norm of gradient: 11.0694947241319\n",
      "k=300: norm of gradient: 38.72138030931918\n",
      "k=350: norm of gradient: 21.41231864875493\n",
      "k=400: norm of gradient: 5.368028489385387\n",
      "k=450: norm of gradient: 1.350642409160792\n",
      "k=500: norm of gradient: 36.51200168257528\n",
      "k=550: norm of gradient: 0.44500113601203634\n",
      "k=600: norm of gradient: 7.280991950031262\n",
      "k=650: norm of gradient: 0.881598577100325\n",
      "k=700: norm of gradient: 84.03194425810652\n",
      "k=750: norm of gradient: 0.351806084902731\n",
      "k=800: norm of gradient: 12.435123186242874\n",
      "k=850: norm of gradient: 3.0028421931471136\n",
      "k=900: norm of gradient: 0.41013909100357\n",
      "k=950: norm of gradient: 13.28238866308735\n"
     ]
    }
   ],
   "source": [
    "# initialization of the weights\n",
    "wini = np.random.randn(sxo*sxz + sxo + sxt*sxo + sxt)\n",
    "gradnrml = []  # list of norm of grads for plotting later\n",
    "\n",
    "cwghts = wini  # the current state of the weight vector\n",
    "for kkk in range(epochs):\n",
    "    cids = np.random.choice(trnidx, batchsize, replace=False)\n",
    "    cgrad = np.zeros(wini.shape)\n",
    "    for cid in cids:\n",
    "        itrgts = data[cid, :]\n",
    "        ilabls = mplbldict[lbls[cid]]\n",
    "        cgrad = cgrad + approx_fprime(cwghts, sqrdloss, 1e-8,\n",
    "                                      itrgts, ilabls)\n",
    "    cwghts = cwghts - lr*1/batchsize*cgrad  # the upgrade\n",
    "    gradnrml.append(1/batchsize*np.linalg.norm(cgrad))\n",
    "    if np.mod(kkk, 50) == 0:\n",
    "        print(f'k={kkk}: norm of gradient: {np.linalg.norm(cgrad)}')"
   ]
  },
  {
   "cell_type": "code",
   "execution_count": 6,
   "id": "62603935",
   "metadata": {},
   "outputs": [
    {
     "data": {
      "image/png": "[encoded data removed]",
      "text/plain": [
       "<Figure size 640x480 with 1 Axes>"
      ]
     },
     "metadata": {},
     "output_type": "display_data"
    }
   ],
   "source": [
    "plt.figure()\n",
    "plt.semilogy(gradnrml, label='norm of gradient estimate')\n",
    "plt.xlabel('$k$-th stochastic gradient step')\n",
    "plt.legend()\n",
    "plt.show()"
   ]
  },
  {
   "cell_type": "markdown",
   "id": "0286c07a-1176-4456-aafb-1de7ead8f4ff",
   "metadata": {},
   "source": [
    "Wir koennen eine gewisse Konvergenz beobachten (sichtbar an der unteren Kante) aber auch ein typisches stochastisches Verhalten."
   ]
  },
  {
   "cell_type": "markdown",
   "id": "16be6f4c-5be6-4e3d-81f1-755896cea2c9",
   "metadata": {},
   "source": [
    "### Das Auswerten\n",
    "\n",
    "Wir nehmen das Ergebnis der letzten Iteration als *beste Parameter*, definieren damit das Neuronale Netz, und testen auf den uebriggebliebenen Daten das Ergebnis."
   ]
  },
  {
   "cell_type": "code",
   "execution_count": 7,
   "id": "b801bee4",
   "metadata": {},
   "outputs": [],
   "source": [
    "optwghts = cwghts  # the optimal weights"
   ]
  },
  {
   "cell_type": "code",
   "execution_count": 8,
   "id": "14026ba5",
   "metadata": {},
   "outputs": [],
   "source": [
    "Aonex, bonex, Atwox, btwox = wvec_to_wmats(optwghts)"
   ]
  },
  {
   "cell_type": "code",
   "execution_count": 9,
   "id": "af6b8462",
   "metadata": {},
   "outputs": [
    {
     "name": "stdout",
     "output_type": "stream",
     "text": [
      "***** testing the classification *****\n",
      "label: 1 -- nn: 0.9437 -- success: [ True]\n",
      "label: 1 -- nn: 0.9437 -- success: [ True]\n",
      "label: 1 -- nn: 0.9437 -- success: [ True]\n",
      "label: 1 -- nn: 0.9437 -- success: [ True]\n",
      "label: 1 -- nn: 0.9437 -- success: [ True]\n",
      "label: 1 -- nn: 0.9437 -- success: [ True]\n",
      "label: 1 -- nn: 0.9437 -- success: [ True]\n",
      "label: 1 -- nn: 0.9437 -- success: [ True]\n",
      "label: 1 -- nn: 0.9999 -- success: [ True]\n",
      "label: 1 -- nn: 0.9998 -- success: [ True]\n",
      "label: 1 -- nn: 0.9999 -- success: [ True]\n",
      "label: 1 -- nn: 0.9189 -- success: [ True]\n",
      "label: 1 -- nn: 0.9189 -- success: [ True]\n",
      "label: 1 -- nn: 0.9189 -- success: [ True]\n",
      "label: 1 -- nn: 0.9189 -- success: [ True]\n",
      "label: 1 -- nn: 0.9189 -- success: [ True]\n",
      "label: 1 -- nn: 0.9191 -- success: [ True]\n",
      "label: 1 -- nn: 0.9189 -- success: [ True]\n",
      "label: 1 -- nn: 0.9189 -- success: [ True]\n",
      "label: 1 -- nn: 0.9189 -- success: [ True]\n",
      "label: 1 -- nn: 0.9189 -- success: [ True]\n",
      "label: 1 -- nn: 0.9189 -- success: [ True]\n",
      "label: 1 -- nn: 0.9189 -- success: [ True]\n",
      "label: 1 -- nn: 0.9189 -- success: [ True]\n",
      "label: 1 -- nn: 0.9189 -- success: [ True]\n",
      "label: 1 -- nn: 0.9189 -- success: [ True]\n",
      "label: 1 -- nn: 0.9191 -- success: [ True]\n",
      "label: -1 -- nn: 0.5442 -- success: [False]\n",
      "label: -1 -- nn: -0.9163 -- success: [ True]\n",
      "label: -1 -- nn: -0.9163 -- success: [ True]\n",
      "label: -1 -- nn: -0.9163 -- success: [ True]\n",
      "label: -1 -- nn: -0.9153 -- success: [ True]\n",
      "label: -1 -- nn: -0.9155 -- success: [ True]\n",
      "label: -1 -- nn: -0.8671 -- success: [ True]\n",
      "label: -1 -- nn: -0.9160 -- success: [ True]\n"
     ]
    }
   ],
   "source": [
    "print('***** testing the classification *****')\n",
    "faillst = []\n",
    "for cti in tstidx:  # iteration over the test data points\n",
    "    itrgt = data[cti, :]\n",
    "    ilbl = mplbldict[lbls[cti]]\n",
    "    # the prediction of the neural network\n",
    "    nnlbl = fwdnn(itrgt, Aone=Aonex, bone=bonex, Atwo=Atwox, btwo=btwox)\n",
    "    sccs = np.sign(ilbl) == np.sign(nnlbl)\n",
    "    print(f'label: {ilbl.item()} -- nn: {nnlbl.item():.4f} -- success: {sccs}')\n",
    "    if not sccs:\n",
    "        faillst.append((cti, ilbl.item(), nnlbl.item(),\n",
    "                        datadict['target_names'][lbls[cti]]))\n",
    "    else:\n",
    "        pass"
   ]
  },
  {
   "cell_type": "code",
   "execution_count": 10,
   "id": "ee7f2f8e",
   "metadata": {},
   "outputs": [
    {
     "name": "stdout",
     "output_type": "stream",
     "text": [
      "\n",
      "***** Results *****\n",
      "97% was classified correctly\n",
      "***** Misses *****\n",
      "ID: 282 (Chinstrap pinguin) was missclassified with score 0.5442 vs. -1\n"
     ]
    }
   ],
   "source": [
    "print('\\n***** Results *****')\n",
    "print(f'{100-len(faillst)/tstidx.size*100:.0f}% was classified correctly')\n",
    "print('***** Misses *****')\n",
    "if len(faillst) == 0:\n",
    "    print('None')\n",
    "else:\n",
    "    for cfl in faillst:\n",
    "        cid, lbl, nnlbl, name = cfl\n",
    "        print(f'ID: {cid} ({name} pinguin) was missclassified ' +\n",
    "              f'with score {nnlbl:.4f} vs. {lbl}')"
   ]
  }
 ],
 "metadata": {
  "jupytext": {
   "cell_metadata_filter": "-all",
   "formats": "ipynb,Rmd,md,auto:percent",
   "main_language": "python",
   "notebook_metadata_filter": "-all"
  },
  "kernelspec": {
   "display_name": "Python 3 (ipykernel)",
   "language": "python",
   "name": "python3"
  },
  "language_info": {
   "codemirror_mode": {
    "name": "ipython",
    "version": 3
   },
   "file_extension": ".py",
   "mimetype": "text/x-python",
   "name": "python",
   "nbconvert_exporter": "python",
   "pygments_lexer": "ipython3",
   "version": "3.12.3"
  }
 },
 "nbformat": 4,
 "nbformat_minor": 5
}
